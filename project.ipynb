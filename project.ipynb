{
  "cells": [
    {
      "cell_type": "markdown",
      "metadata": {
        "id": "view-in-github",
        "colab_type": "text"
      },
      "source": [
        "<a href=\"https://colab.research.google.com/github/clento173/OpenSourceDataAnalysis_3-2/blob/main/project.ipynb\" target=\"_parent\"><img src=\"https://colab.research.google.com/assets/colab-badge.svg\" alt=\"Open In Colab\"/></a>"
      ]
    },
    {
      "cell_type": "code",
      "execution_count": 8,
      "metadata": {
        "colab": {
          "base_uri": "https://localhost:8080/"
        },
        "id": "mNP7R4lNJAEy",
        "outputId": "8e41dab1-12ef-4bf6-e955-26fc7abe0c3e"
      },
      "outputs": [
        {
          "output_type": "stream",
          "name": "stdout",
          "text": [
            "[{'EUS': '193784708', 'GUS': '59133720', 'WUS': '12819757.886', 'HUS': '22740838.937'}, {'EUS': '134955565', 'GUS': '9107197', 'WUS': '2075819.2', 'HUS': '0'}, {'EUS': '372270', 'GUS': '53331', 'WUS': '5945', 'HUS': '0'}, {'EUS': '10249618', 'GUS': '536119', 'WUS': '147273', 'HUS': '0'}, {'EUS': '327102096', 'GUS': '22834274', 'WUS': '12844807.5', 'HUS': '0'}, {'EUS': '583090528', 'GUS': '37835680', 'WUS': '6581017', 'HUS': '0'}, {'EUS': '247059373', 'GUS': '11524542', 'WUS': '1522465.2', 'HUS': '0'}]\n"
          ]
        }
      ],
      "source": [
        "import requests\n",
        "import pandas as pd\n",
        "import json\n",
        "\n",
        "url = \"http://openapi.seoul.go.kr:8088/4d54555a6965756e3130326d6c4c5867/json/energyUseDataSummaryInfo/1/100/\"\n",
        "responses = []\n",
        "for year in range(2015,2016):\n",
        "    for month in range(1,13):\n",
        "        url_month = url + str(year) + \"/\" + \"{:02d}\".format(month)\n",
        "        responses.append(requests.get(url_month).json())\n",
        "\n",
        "rows = responses[0]['energyUseDataSummaryInfo']['row']\n",
        "select_col = [{'EUS' : item['EUS'], 'GUS' : item['GUS'], 'WUS' : item['WUS'], 'HUS' : item['HUS']} for item in rows]\n",
        "\n",
        "print(select_col)\n"
      ]
    }
  ],
  "metadata": {
    "colab": {
      "provenance": [],
      "authorship_tag": "ABX9TyPHVZ4c87+oYlE/VkXZdwXr",
      "include_colab_link": true
    },
    "kernelspec": {
      "display_name": "Python 3",
      "name": "python3"
    },
    "language_info": {
      "name": "python"
    }
  },
  "nbformat": 4,
  "nbformat_minor": 0
}