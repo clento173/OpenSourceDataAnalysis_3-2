{
  "cells": [
    {
      "cell_type": "markdown",
      "metadata": {
        "id": "view-in-github",
        "colab_type": "text"
      },
      "source": [
        "<a href=\"https://colab.research.google.com/github/clento173/OpenSourceDataAnalysis_3-2/blob/main/project.ipynb\" target=\"_parent\"><img src=\"https://colab.research.google.com/assets/colab-badge.svg\" alt=\"Open In Colab\"/></a>"
      ]
    },
    {
      "cell_type": "code",
      "execution_count": 12,
      "metadata": {
        "colab": {
          "base_uri": "https://localhost:8080/"
        },
        "id": "mNP7R4lNJAEy",
        "outputId": "c6b69257-c629-4436-cd1d-f64f09a40f56"
      },
      "outputs": [
        {
          "output_type": "stream",
          "name": "stdout",
          "text": [
            "['{ EUS : 193784708, GUS : 59133720, WUS : 12819757.886, HUS : 22740838.937}', '{ EUS : 189974230, GUS : 56487358, WUS : 12656888.218, HUS : 18793320.213}', '{ EUS : 145577747, GUS : 7601585, WUS : 2570265.8, HUS : 48}', '{ EUS : 134199179, GUS : 5544226, WUS : 3003915.8, HUS : 9}', '{ EUS : 177289769, GUS : 22060892, WUS : 13086734.214, HUS : 1320895.801}', '{ EUS : 123484926, GUS : 3244802, WUS : 3276567.2, HUS : 0}', '{ EUS : 556996768, GUS : 12877575, WUS : 4433516.8, HUS : 0}', '{ EUS : 242000479, GUS : 7619018, WUS : 15164553.742, HUS : 460288.965}', '{ EUS : 117000086, GUS : 3130770, WUS : 2286005, HUS : 0}', '{ EUS : 186473958, GUS : 8924018, WUS : 14711828.766, HUS : 3167520.127}', '{ EUS : 147686501, GUS : 2443388, WUS : 1424682, HUS : 0}', '{ EUS : 203388142, GUS : 40095231, WUS : 13904162.958, HUS : 21102616.717}']\n"
          ]
        }
      ],
      "source": [
        "import requests\n",
        "import pandas as pd\n",
        "import json\n",
        "\n",
        "url = \"http://openapi.seoul.go.kr:8088/4d54555a6965756e3130326d6c4c5867/json/energyUseDataSummaryInfo/1/100/\"\n",
        "responses = []\n",
        "for year in range(2015,2016):\n",
        "    for month in range(1,13):\n",
        "        url_month = url + str(year) + \"/\" + \"{:02d}\".format(month)\n",
        "        response = requests.get(url_month).json()\n",
        "        responses.append(select_col)\n",
        "\n",
        "#data = responses.json()\n",
        "\n",
        "#data = json.loads(responses)\n",
        "\n",
        "#key = list(responses.json().keys())[0]\n",
        "#data = responses.json().get(key).get('row')\n",
        "\n",
        "print(responses)\n",
        " # key = list(response.json().keys())[0]\n",
        " # data = response.json().get(key).get('row')\n",
        " # df = pd.DataFrame(data)\n",
        "\n",
        "\n",
        "#url = \" http://openapi.seoul.go.kr:8088/4d54555a6965756e3130326d6c4c5867/json/energyUseDataSummaryInfo/1/100/\"\n",
        "#api_key = \"4d54555a6965756e3130326d6c4c5867\"\n",
        "\n",
        "#response = requests.get(url)\n",
        "\n",
        "#if response.status_code == 200:\n",
        "#  print(\"api 호출 성공\")\n",
        "#  print(response.json())\n",
        "#else:\n",
        "#  print(f\"API 호출 실패: {response.status_code}\")"
      ]
    }
  ],
  "metadata": {
    "colab": {
      "provenance": [],
      "authorship_tag": "ABX9TyOnE/hSed+s+oXvSSURyfm2",
      "include_colab_link": true
    },
    "kernelspec": {
      "display_name": "Python 3",
      "name": "python3"
    },
    "language_info": {
      "name": "python"
    }
  },
  "nbformat": 4,
  "nbformat_minor": 0
}