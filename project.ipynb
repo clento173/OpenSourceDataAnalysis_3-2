{
  "cells": [
    {
      "cell_type": "markdown",
      "metadata": {
        "id": "view-in-github",
        "colab_type": "text"
      },
      "source": [
        "<a href=\"https://colab.research.google.com/github/clento173/OpenSourceDataAnalysis_3-2/blob/main/project.ipynb\" target=\"_parent\"><img src=\"https://colab.research.google.com/assets/colab-badge.svg\" alt=\"Open In Colab\"/></a>"
      ]
    },
    {
      "cell_type": "code",
      "execution_count": 25,
      "metadata": {
        "colab": {
          "base_uri": "https://localhost:8080/"
        },
        "id": "mNP7R4lNJAEy",
        "outputId": "0c9fcf09-87ae-414e-f4c7-ffadec829720"
      },
      "outputs": [
        {
          "output_type": "stream",
          "name": "stdout",
          "text": [
            "     YEAR MON        EUS       GUS           WUS           HUS\n",
            "0    2015  01  193784708  59133720  12819757.886  22740838.937\n",
            "1    2015  02  189974230  56487358  12656888.218  18793320.213\n",
            "2    2015  03  175215719  49984873  12655474.249  13826348.508\n",
            "3    2015  04  183891769  37306841  12954773.246   5836002.885\n",
            "4    2015  05  177289769  22060892  13086734.214   1320895.801\n",
            "..    ...  ..        ...       ...           ...           ...\n",
            "115  2024  08  463971328   7072251    15873544.6    130082.263\n",
            "116  2024  09  409872908   5729131    15143321.6   3420507.136\n",
            "117  2024  10  282268119   8233421    15297669.9   2695491.396\n",
            "118  2024  11  257927956  17418221    14678672.5   8836296.454\n",
            "119  2024  12  134828126  42103424     7326853.6   1513199.277\n",
            "\n",
            "[120 rows x 6 columns]\n"
          ]
        }
      ],
      "source": [
        "import requests\n",
        "import pandas as pd\n",
        "\n",
        "url = \"http://openapi.seoul.go.kr:8088/4d54555a6965756e3130326d6c4c5867/json/energyUseDataSummaryInfo/1/100/\"\n",
        "rows = []\n",
        "for year in range(2015,2025):\n",
        "    for month in range(1,13):\n",
        "        url_month = url + str(year) + \"/\" + \"{:02d}\".format(month)\n",
        "        response = (requests.get(url_month).json())\n",
        "        rows.extend(response['energyUseDataSummaryInfo']['row'])\n",
        "# try catch 추가\n",
        "\n",
        "\n",
        "#rows = responses[0]['energyUseDataSummaryInfo']['row']\n",
        "\n",
        "select_col = [{'YEAR' : item['YEAR'],'MON' : item['MON'], 'EUS' : item['EUS'], 'GUS' : item['GUS'], 'WUS' : item['WUS'], 'HUS' : item['HUS']} for item in rows if item['MM_TYPE'] == '개인']\n",
        "\n",
        "#print(select_col)\n",
        "\n",
        "df = pd.DataFrame(select_col)\n",
        "print(df)\n"
      ]
    }
  ],
  "metadata": {
    "colab": {
      "provenance": [],
      "authorship_tag": "ABX9TyNZKjZMijsj2nSHZjBk0uv4",
      "include_colab_link": true
    },
    "kernelspec": {
      "display_name": "Python 3",
      "name": "python3"
    },
    "language_info": {
      "name": "python"
    }
  },
  "nbformat": 4,
  "nbformat_minor": 0
}